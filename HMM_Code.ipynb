{
  "nbformat": 4,
  "nbformat_minor": 0,
  "metadata": {
    "colab": {
      "name": "HMM Code.ipynb",
      "provenance": [],
      "collapsed_sections": []
    },
    "kernelspec": {
      "name": "python3",
      "display_name": "Python 3"
    }
  },
  "cells": [
    {
      "cell_type": "code",
      "metadata": {
        "id": "kPLpV07l2C2_",
        "colab_type": "code",
        "colab": {}
      },
      "source": [
        "#pip install hmmlearn"
      ],
      "execution_count": 0,
      "outputs": []
    },
    {
      "cell_type": "markdown",
      "metadata": {
        "id": "2Msxkn5YBHxF",
        "colab_type": "text"
      },
      "source": [
        "Hidden Markov Models\n",
        "Practical Session - M1 MLDM Rohith Teja MITTAKOLA"
      ]
    },
    {
      "cell_type": "code",
      "metadata": {
        "id": "LYawLHpTxR7I",
        "colab_type": "code",
        "colab": {}
      },
      "source": [
        "import numpy as np\n",
        "import pandas as pd\n",
        "from scipy.special import logsumexp\n",
        "from hmmlearn import hmm\n",
        "\n",
        "#NOTE - The results are commented below the respective functions"
      ],
      "execution_count": 0,
      "outputs": []
    },
    {
      "cell_type": "markdown",
      "metadata": {
        "id": "JIE_84XeBXFr",
        "colab_type": "text"
      },
      "source": [
        "Initializing the probability matrices"
      ]
    },
    {
      "cell_type": "code",
      "metadata": {
        "id": "G578QbaqxyNI",
        "colab_type": "code",
        "colab": {}
      },
      "source": [
        "# DATA FOR THE MUSIC MODELING PROBLEM \n",
        "\n",
        "a = np.array([[1/3, 1/3, 1/3],\n",
        "              [1/3, 1/3, 1/3],\n",
        "              [1/3, 1/3, 1/3]]) #Transitional probability matrix\n",
        "\n",
        "b = np.array([[1/2,  1/2, 0, 0, 0],\n",
        "               [0, 1/2, 1/2, 0, 0],\n",
        "               [0, 0, 0, 1/2, 1/2]]) #Observational probability matrix\n",
        "\n",
        "pi = np.array([1/3, 1/3, 1/3]) #initial probabilities\n",
        "A,B,C,D,E = 0,1,2,3,4 #observations\n",
        "states = ['box1', 'box2', 'box3']\n",
        "observations = [\"A\",\"B\",\"C\",\"D\",\"E\"]\n",
        "sequence = np.array([A,B,E]) #given sequence of symbols\n",
        "#sequence = np.array([A,B,C,D])"
      ],
      "execution_count": 0,
      "outputs": []
    },
    {
      "cell_type": "code",
      "metadata": {
        "id": "hStgCSHnDUjN",
        "colab_type": "code",
        "colab": {}
      },
      "source": [
        "# TEST DATA FOR SOLVING THE BEACH MUSEUM PROBLEM FROM THE CLASS SLIDES\n",
        "a = np.array([[0.2, 0.6, 0.2],\n",
        "              [0.3, 0.2, 0.5],\n",
        "              [0.1, 0.1, 0.8]])\n",
        "\n",
        "b = np.array([[0.7,  0.3],\n",
        "              [1, 0],\n",
        "              [0.1, 0.9]])\n",
        "\n",
        "pi = np.array([1, 0, 0])\n",
        "\n",
        "states = [\"Cloudy\",\"Rainy\",\"Sunny\"]\n",
        "beach = 0\n",
        "museum = 1\n",
        "observations = [\"Beach\",\"Museum\"]\n",
        "sequence = np.array([beach,beach,museum])"
      ],
      "execution_count": 0,
      "outputs": []
    },
    {
      "cell_type": "markdown",
      "metadata": {
        "id": "Fx48bsWSBbvD",
        "colab_type": "text"
      },
      "source": [
        "Forward Algorithm"
      ]
    },
    {
      "cell_type": "code",
      "metadata": {
        "id": "0mHLSA_Txyng",
        "colab_type": "code",
        "outputId": "b8f94bd7-c41c-4ded-e06f-4d61c57adbe9",
        "colab": {
          "base_uri": "https://localhost:8080/",
          "height": 104
        }
      },
      "source": [
        "def forward():\n",
        "  global store_forward\n",
        "  store_forward = np.zeros((sequence.shape[0],3))\n",
        "  c1 = pi.T*b[:,sequence[0]]   #calculates the first column of the forward algorithm \n",
        "  store_forward[0, :] =c1\n",
        "  for i in sequence[1:]:\n",
        "    ctemp = [sum(c1*a[:,j]) for j in range(a.shape[0])]\n",
        "    c2 = ctemp*b[:,i] #calculates the other columns recursively\n",
        "    c1 = c2\n",
        "    store_forward[np.where(sequence ==i), :] =c1\n",
        "    cp = sum(c1)\n",
        "  print(\"The calculation matrix is (columwise forward) \\n\", store_forward.T)\n",
        "  print(\"The probability is \",sum(c1)) \n",
        "forward()\n",
        "\n",
        "# The calculation matrix is (columwise forward) \n",
        "#  [[0.16666667 0.02777778 0.        ]\n",
        "#  [0.         0.02777778 0.        ]\n",
        "#  [0.         0.         0.00925926]]\n",
        "# The probability is  0.009259259259259259"
      ],
      "execution_count": 349,
      "outputs": [
        {
          "output_type": "stream",
          "text": [
            "The calculation matrix is (columwise forward) \n",
            " [[0.16666667 0.02777778 0.        ]\n",
            " [0.         0.02777778 0.        ]\n",
            " [0.         0.         0.00925926]]\n",
            "The probability is  0.009259259259259259\n"
          ],
          "name": "stdout"
        }
      ]
    },
    {
      "cell_type": "markdown",
      "metadata": {
        "id": "CJ3kBZJ4BfAT",
        "colab_type": "text"
      },
      "source": [
        "Backward Algorithm"
      ]
    },
    {
      "cell_type": "code",
      "metadata": {
        "id": "t53arxIvyEfj",
        "colab_type": "code",
        "outputId": "345f40c4-dcab-46b0-c48d-1d729c4af05f",
        "colab": {
          "base_uri": "https://localhost:8080/",
          "height": 104
        }
      },
      "source": [
        "def backward():\n",
        "  global store_backward\n",
        "  revsequence = sequence[::-1]\n",
        "  clast = np.ones_like(a.shape[0]) #last column of backward algorithm\n",
        "  store_backward = np.zeros((sequence.shape[0],3))\n",
        "  for i in revsequence[0:len(revsequence)-1]: #recursion to find other columns\n",
        "    ctemp = [sum(clast*a[j,:]*b[:,i]) for j in range(a.shape[0])]\n",
        "    clast = ctemp\n",
        "    cc = sum(pi*b[:,revsequence[-1]]*clast)\n",
        "    store_backward[np.where(sequence ==i), :] = pi*b[:,revsequence[-1]]*clast #storing the values calculated\n",
        "  store_backward[0:sequence.shape[0]-1,:] = store_backward[1:sequence.shape[0]+1,:]\n",
        "  store_backward[-1,:] = np.ones_like(a.shape[0])\n",
        "  print(\"The calculation matrix is (columwise backward) \\n\", store_backward.T)\n",
        "  print(\"The probability is \",cc)\n",
        "backward()\n",
        "\n",
        "# The calculation matrix is (columwise backward) \n",
        "#  [[0.00925926 0.02777778 1.        ]\n",
        "#  [0.         0.         1.        ]\n",
        "#  [0.         0.         1.        ]]\n",
        "# The probability is  0.009259259259259259"
      ],
      "execution_count": 350,
      "outputs": [
        {
          "output_type": "stream",
          "text": [
            "The calculation matrix is (columwise backward) \n",
            " [[0.00925926 0.02777778 1.        ]\n",
            " [0.         0.         1.        ]\n",
            " [0.         0.         1.        ]]\n",
            "The probability is  0.009259259259259259\n"
          ],
          "name": "stdout"
        }
      ]
    },
    {
      "cell_type": "markdown",
      "metadata": {
        "id": "u3F5v-DsBhhb",
        "colab_type": "text"
      },
      "source": [
        "Viterbi Algorithm"
      ]
    },
    {
      "cell_type": "code",
      "metadata": {
        "id": "QO5n45b97DMB",
        "colab_type": "code",
        "outputId": "60d9aff6-87e5-4616-95ff-30e51c2e7caf",
        "colab": {
          "base_uri": "https://localhost:8080/",
          "height": 121
        }
      },
      "source": [
        "def viterbi():\n",
        "    store = np.zeros((sequence.shape[0],a.shape[0]))\n",
        "    track = np.zeros((sequence.shape[0], a.shape[0]), 'int')\n",
        "    store[0, :] = pi * b[:,sequence[0]] #calculating first column\n",
        "    for t in range(1, sequence.shape[0]): #recursion\n",
        "        for s2 in range(3):\n",
        "            for s1 in range(3):\n",
        "                score = store[t-1, s1] * a[s1, s2] * b[s2, sequence[t]] \n",
        "                if score > store[t, s2]: #checking max condition\n",
        "                    store[t, s2] = score\n",
        "                    track[t, s2] = s1\n",
        "    follow = []\n",
        "    follow.append(np.argmax(store[sequence.shape[0]-1,:]))\n",
        "    for i in range(sequence.shape[0]-1, 0, -1):\n",
        "        follow.append(track[i, follow[-1]])\n",
        "    final=[states[i] for i in list(reversed(follow))]\n",
        "    print(\"The calculation matrix is (columwise forward) \\n\", store.T)\n",
        "    print(\"The probability is\",max(store[sequence.shape[0]-1,:]))\n",
        "    print(\"Optimal sequence:\",final)\n",
        "\n",
        "viterbi()\n",
        "\n",
        "# The calculation matrix is (columwise forward) \n",
        "#  [[0.16666667 0.02777778 0.        ]\n",
        "#  [0.         0.02777778 0.        ]\n",
        "#  [0.         0.         0.00462963]]\n",
        "# The probability is 0.004629629629629629\n",
        "# Optimal sequence: ['box1', 'box1', 'box3']"
      ],
      "execution_count": 351,
      "outputs": [
        {
          "output_type": "stream",
          "text": [
            "The calculation matrix is (columwise forward) \n",
            " [[0.16666667 0.02777778 0.        ]\n",
            " [0.         0.02777778 0.        ]\n",
            " [0.         0.         0.00462963]]\n",
            "The probability is 0.004629629629629629\n",
            "Optimal sequence: ['box1', 'box1', 'box3']\n"
          ],
          "name": "stdout"
        }
      ]
    },
    {
      "cell_type": "markdown",
      "metadata": {
        "id": "r0xhXvdvBka7",
        "colab_type": "text"
      },
      "source": [
        "Generate Sequence"
      ]
    },
    {
      "cell_type": "code",
      "metadata": {
        "id": "uInDH3Ya7DTi",
        "colab_type": "code",
        "outputId": "24855a30-b873-4dec-90f2-f112b5c00718",
        "colab": {
          "base_uri": "https://localhost:8080/",
          "height": 52
        }
      },
      "source": [
        "def generate(number):\n",
        "  choice =[]\n",
        "  for i in range(number):\n",
        "   box = np.random.choice(states, p= pi) #picks a random box from initial probability distribution\n",
        "   symbol = np.random.choice(observations, p= b[states.index(box),:]) #picks symbol using\n",
        "  #probability distribution of that symbol in respective box\n",
        "   choice.append([box,symbol])\n",
        "  print(\"The generated observations are \\n \",choice)\n",
        "\n",
        "generate(4) #generates 4 obs, can be changed to any number required\n",
        "\n",
        "# The generated observations are \n",
        "#   [['box2', 'C'], ['box3', 'E'], ['box1', 'A'], ['box3', 'E']]"
      ],
      "execution_count": 352,
      "outputs": [
        {
          "output_type": "stream",
          "text": [
            "The generated observations are \n",
            "  [['box3', 'E'], ['box1', 'B'], ['box1', 'A'], ['box3', 'D']]\n"
          ],
          "name": "stdout"
        }
      ]
    },
    {
      "cell_type": "markdown",
      "metadata": {
        "id": "QaE7SrteBojD",
        "colab_type": "text"
      },
      "source": [
        "Log likehood forward algorithm"
      ]
    },
    {
      "cell_type": "code",
      "metadata": {
        "id": "IBaCfAaU7Dc8",
        "colab_type": "code",
        "outputId": "f6bd4ca7-c1c2-4f06-a4c8-fffd3222d281",
        "colab": {
          "base_uri": "https://localhost:8080/",
          "height": 190
        }
      },
      "source": [
        "def logforward():\n",
        "  store = np.zeros((sequence.shape[0],3))\n",
        "  c1 = np.log(pi)+np.log(b[:,sequence[0]])  #calculates the first column of the forward algorithm \n",
        "  store[0, :] =c1\n",
        "  for i in sequence[1:]:\n",
        "    ctemp = [logsumexp(c1+np.log(a[:,j])) for j in range(a.shape[0])]\n",
        "    c2 = ctemp+np.log(b[:,i]) #calculates the other columns recursively\n",
        "    c1 = c2\n",
        "    store[np.where(sequence ==i), :] =c1\n",
        "    cp = logsumexp(c1)\n",
        "  print(\"The calculation matrix is (columwise forward) \\n\", store.T)\n",
        "  print(\"The negative likelihood is\",cp)\n",
        "  print(\"The probability is \",np.exp(cp))  \n",
        "\n",
        "logforward()\n",
        "\n",
        "# The calculation matrix is (columwise forward) \n",
        "#  [[-1.79175947 -3.58351894        -inf]\n",
        "#  [       -inf -3.58351894        -inf]\n",
        "#  [       -inf        -inf -4.68213123]]\n",
        "# The negative likelihood is -4.68213122712422\n",
        "# The probability is  0.009259259259259257"
      ],
      "execution_count": 353,
      "outputs": [
        {
          "output_type": "stream",
          "text": [
            "The calculation matrix is (columwise forward) \n",
            " [[-1.79175947 -3.58351894        -inf]\n",
            " [       -inf -3.58351894        -inf]\n",
            " [       -inf        -inf -4.68213123]]\n",
            "The negative likelihood is -4.68213122712422\n",
            "The probability is  0.009259259259259257\n"
          ],
          "name": "stdout"
        },
        {
          "output_type": "stream",
          "text": [
            "/usr/local/lib/python3.6/dist-packages/ipykernel_launcher.py:3: RuntimeWarning: divide by zero encountered in log\n",
            "  This is separate from the ipykernel package so we can avoid doing imports until\n",
            "/usr/local/lib/python3.6/dist-packages/ipykernel_launcher.py:7: RuntimeWarning: divide by zero encountered in log\n",
            "  import sys\n"
          ],
          "name": "stderr"
        }
      ]
    },
    {
      "cell_type": "markdown",
      "metadata": {
        "id": "U3hCkO_bBtRk",
        "colab_type": "text"
      },
      "source": [
        "Log likehood backward algorithm"
      ]
    },
    {
      "cell_type": "code",
      "metadata": {
        "id": "HRk9sJko7Dfa",
        "colab_type": "code",
        "outputId": "3418f7bc-6669-476b-d9ed-5f761fa14017",
        "colab": {
          "base_uri": "https://localhost:8080/",
          "height": 224
        }
      },
      "source": [
        "def logbackward():\n",
        "  revsequence = sequence[::-1]\n",
        "  clast = np.log(np.ones_like(a.shape[0])) #last column of backward algorithm\n",
        "  store = np.zeros((sequence.shape[0],3))\n",
        "  for i in revsequence[0:len(revsequence)-1]: #recursion to find other columns\n",
        "    ctemp = [logsumexp(clast+np.log(a[j,:])+np.log(b[:,i])) for j in range(a.shape[0])]\n",
        "    clast = ctemp\n",
        "    cc = logsumexp(np.log(pi)+np.log(b[:,revsequence[-1]])+clast)\n",
        "    store[np.where(sequence ==i), :] = np.log(pi)+np.log(b[:,revsequence[-1]])+clast #storing the values calculated\n",
        "  store[0:sequence.shape[0]-1,:] = store[1:sequence.shape[0]+1,:]\n",
        "  store[-1,:] = np.log(np.ones_like(a.shape[0]))\n",
        "  print(\"The calculation matrix is (columwise backward) \\n\", store.T)\n",
        "  print(\"The negative likelihood is\",cc)\n",
        "  print(\"The probability is \",np.exp(cc))\n",
        "\n",
        "logbackward()\n",
        "\n",
        "# The calculation matrix is (columwise backward) \n",
        "#  [[-4.68213123 -3.58351894  0.        ]\n",
        "#  [       -inf        -inf  0.        ]\n",
        "#  [       -inf        -inf  0.        ]]\n",
        "# The negative likelihood is -4.68213122712422\n",
        "# The probability is  0.009259259259259257"
      ],
      "execution_count": 354,
      "outputs": [
        {
          "output_type": "stream",
          "text": [
            "The calculation matrix is (columwise backward) \n",
            " [[-4.68213123 -3.58351894  0.        ]\n",
            " [       -inf        -inf  0.        ]\n",
            " [       -inf        -inf  0.        ]]\n",
            "The negative likelihood is -4.68213122712422\n",
            "The probability is  0.009259259259259257\n"
          ],
          "name": "stdout"
        },
        {
          "output_type": "stream",
          "text": [
            "/usr/local/lib/python3.6/dist-packages/ipykernel_launcher.py:6: RuntimeWarning: divide by zero encountered in log\n",
            "  \n",
            "/usr/local/lib/python3.6/dist-packages/ipykernel_launcher.py:8: RuntimeWarning: divide by zero encountered in log\n",
            "  \n",
            "/usr/local/lib/python3.6/dist-packages/ipykernel_launcher.py:9: RuntimeWarning: divide by zero encountered in log\n",
            "  if __name__ == '__main__':\n"
          ],
          "name": "stderr"
        }
      ]
    },
    {
      "cell_type": "markdown",
      "metadata": {
        "id": "pz8A0ZPGBvc7",
        "colab_type": "text"
      },
      "source": [
        "Checking results with \"hmmlearn\" python module"
      ]
    },
    {
      "cell_type": "code",
      "metadata": {
        "id": "82JANs7V7Dax",
        "colab_type": "code",
        "colab": {}
      },
      "source": [
        "model = hmm.MultinomialHMM()\n",
        "model.startprob_ = pi\n",
        "model.transmat_ = a\n",
        "model.emissionprob_ = b\n",
        "model.fit\n",
        "model.n_components = len(states)"
      ],
      "execution_count": 0,
      "outputs": []
    },
    {
      "cell_type": "code",
      "metadata": {
        "id": "rfNEYCBK3r8G",
        "colab_type": "code",
        "outputId": "ee3192e6-bdf3-4a51-9042-1c9471a2d1b3",
        "colab": {
          "base_uri": "https://localhost:8080/",
          "height": 34
        }
      },
      "source": [
        "model.predict(sequence.reshape(-1,1)) #same result as viterbi algorithm\n",
        "\n",
        "# array([0, 0, 2])"
      ],
      "execution_count": 356,
      "outputs": [
        {
          "output_type": "execute_result",
          "data": {
            "text/plain": [
              "array([0, 0, 2])"
            ]
          },
          "metadata": {
            "tags": []
          },
          "execution_count": 356
        }
      ]
    },
    {
      "cell_type": "code",
      "metadata": {
        "id": "wd076d843sCz",
        "colab_type": "code",
        "outputId": "0cdbde66-f035-4363-b34f-d849e6aad2f5",
        "colab": {
          "base_uri": "https://localhost:8080/",
          "height": 34
        }
      },
      "source": [
        "model.score(sequence.reshape(-1,1)) #same as log probability calculated as above\n",
        "#in logforward() and logbackward() functions\n",
        "#this result raised to power \"e\" will give the probability obtained in forward and\n",
        "#backward algorithms\n",
        "\n",
        "# -4.68213122712422\n",
        "#np.exp(-4.68213122712422)  = 0.009259259259259257"
      ],
      "execution_count": 357,
      "outputs": [
        {
          "output_type": "execute_result",
          "data": {
            "text/plain": [
              "-4.68213122712422"
            ]
          },
          "metadata": {
            "tags": []
          },
          "execution_count": 357
        }
      ]
    },
    {
      "cell_type": "markdown",
      "metadata": {
        "id": "hCc4_OkdF5wB",
        "colab_type": "text"
      },
      "source": [
        "Baum welsh Algorithm"
      ]
    },
    {
      "cell_type": "code",
      "metadata": {
        "id": "odUz7B1P3sHj",
        "colab_type": "code",
        "outputId": "ea86ea34-0b77-491a-ee3a-4e4bb7e2ebf0",
        "colab": {
          "base_uri": "https://localhost:8080/",
          "height": 224
        }
      },
      "source": [
        "def baumwelsh():\n",
        "  N = a.shape[0]\n",
        "  T = len(sequence)\n",
        "\n",
        "  forward = store_forward.T\n",
        "  backward = store_backward.T\n",
        "  prob = sum(forward[:,-1])\n",
        "  \n",
        "  pt = a*forward[:,[0]]*b[:,sequence]*backward/prob  #To estimate matrix A \n",
        "\n",
        "  gamma = forward*backward/prob # To estimate matrix B\n",
        "\n",
        "  pi1 = gamma / np.sum(gamma) # To estimate pi\n",
        "  print(\"To estimate matrix A \\n\",pt)\n",
        "  print(\"To estimate matrix B \\n\",gamma)\n",
        "  print(\"To estimate matrix pi \\n\",pi1)\n",
        "  #NOTE: The code is incomplete, the iterations have not been made\n",
        "  #to update the A,B and Pi but the estimates are found according to\n",
        "  #the algorithm mentioned in the slides\n",
        "\n",
        "baumwelsh()\n",
        "\n",
        "# To estimate matrix A \n",
        "#  [[0.02777778 0.08333333 0.        ]\n",
        "#  [0.         0.         0.        ]\n",
        "#  [0.         0.         0.        ]]\n",
        "# To estimate matrix B \n",
        "#  [[0.16666667 0.08333333 0.        ]\n",
        "#  [0.         0.         0.        ]\n",
        "#  [0.         0.         1.        ]]\n",
        "# To estimate matrix pi \n",
        "#  [[0.13333333 0.06666667 0.        ]\n",
        "#  [0.         0.         0.        ]\n",
        "#  [0.         0.         0.8       ]]"
      ],
      "execution_count": 358,
      "outputs": [
        {
          "output_type": "stream",
          "text": [
            "To estimate matrix A \n",
            " [[0.02777778 0.08333333 0.        ]\n",
            " [0.         0.         0.        ]\n",
            " [0.         0.         0.        ]]\n",
            "To estimate matrix B \n",
            " [[0.16666667 0.08333333 0.        ]\n",
            " [0.         0.         0.        ]\n",
            " [0.         0.         1.        ]]\n",
            "To estimate matrix pi \n",
            " [[0.13333333 0.06666667 0.        ]\n",
            " [0.         0.         0.        ]\n",
            " [0.         0.         0.8       ]]\n"
          ],
          "name": "stdout"
        }
      ]
    },
    {
      "cell_type": "code",
      "metadata": {
        "id": "fr3bdv6bh1du",
        "colab_type": "code",
        "colab": {}
      },
      "source": [
        ""
      ],
      "execution_count": 0,
      "outputs": []
    },
    {
      "cell_type": "code",
      "metadata": {
        "id": "Pi07pvdah1f6",
        "colab_type": "code",
        "colab": {}
      },
      "source": [
        ""
      ],
      "execution_count": 0,
      "outputs": []
    }
  ]
}